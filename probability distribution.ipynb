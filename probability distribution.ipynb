{
 "cells": [
  {
   "cell_type": "markdown",
   "metadata": {},
   "source": [
    "# Probability distribution  for AEGIS04 Tile"
   ]
  },
  {
   "cell_type": "markdown",
   "metadata": {},
   "source": [
    "Probability distribution for AEGIS04 Tile comparing ML [P. O. Baqui, V. Marra et al](https://arxiv.org/abs/2007.07622) and SGLC [C. López-Sanjuan et al](https://arxiv.org/abs/1804.02673)\n",
    " models."
   ]
  },
  {
   "cell_type": "code",
   "execution_count": 1,
   "metadata": {},
   "outputs": [],
   "source": [
    "from astropy.table import Table\n",
    "import matplotlib.pyplot as plt\n",
    "import astropy.io.fits as pyfits\n"
   ]
  },
  {
   "cell_type": "code",
   "execution_count": 2,
   "metadata": {},
   "outputs": [],
   "source": [
    "# read .fits catalog\n",
    "\n",
    "dat = Table.read('/home/pedro/Desktop/catalogue/check/v0_ml_minijpas201912_aegis04.fits', format='fits')\n",
    "df = dat.to_pandas()\n"
   ]
  },
  {
   "cell_type": "code",
   "execution_count": 3,
   "metadata": {},
   "outputs": [
    {
     "data": {
      "image/png": "[encoded data removed]",
      "text/plain": [
       "<Figure size 432x288 with 1 Axes>"
      ]
     },
     "metadata": {
      "needs_background": "light"
     },
     "output_type": "display_data"
    }
   ],
   "source": [
    "plt.hist(df['SGLC'], 50, facecolor='g', alpha=0.75, label='SGLC')\n",
    "plt.hist(df['ERT_Mor'], 50, facecolor='red', alpha=0.75, label='ERT_Mor')\n",
    "plt.hist(df['RF_Phot'], 50, facecolor='blue', alpha=0.75, label='RF_Phot')\n",
    "\n",
    "plt.xlabel('Probability')\n",
    "plt.ylabel('Occurrences')\n",
    "plt.title('AEGIS04')\n",
    "plt.legend()\n",
    "plt.show()\n"
   ]
  },
  {
   "cell_type": "code",
   "execution_count": null,
   "metadata": {},
   "outputs": [],
   "source": []
  }
 ],
 "metadata": {
  "kernelspec": {
   "display_name": "Python 3",
   "language": "python",
   "name": "python3"
  },
  "language_info": {
   "codemirror_mode": {
    "name": "ipython",
    "version": 3
   },
   "file_extension": ".py",
   "mimetype": "text/x-python",
   "name": "python",
   "nbconvert_exporter": "python",
   "pygments_lexer": "ipython3",
   "version": "3.7.3"
  }
 },
 "nbformat": 4,
 "nbformat_minor": 2
}
